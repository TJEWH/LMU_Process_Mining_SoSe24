{
 "cells": [
  {
   "cell_type": "code",
   "id": "initial_id",
   "metadata": {
    "collapsed": true,
    "ExecuteTime": {
     "end_time": "2024-07-07T21:43:09.268754Z",
     "start_time": "2024-07-07T21:43:07.886712Z"
    }
   },
   "source": [
    "import pm4py\n",
    "from typing import List\n",
    "from practical.ProcessMining.group1.task4.tokenreplay import TokenReplay\n",
    "# Replaced ModelComparator with ModelComparator4D\n",
    "from practical.ProcessMining.group1.task4.comparison import ModelComparator4D \n",
    "from practical.ProcessMining.group1.shared.visualizer import Visualizer"
   ],
   "outputs": [],
   "execution_count": 1
  },
  {
   "metadata": {},
   "cell_type": "code",
   "execution_count": 5,
   "source": [
    "## Removed the log shuffling\n",
    "\n",
    "def init_miners_with_log(event_log) -> List[TokenReplay]:\n",
    "    # Alpha\n",
    "    net_alpha, im_alpha, fm_alpha = pm4py.discover_petri_net_alpha(event_log)\n",
    "    # Heuristic\n",
    "    net_heuristic, im_heuristic, fm_heuristic = pm4py.discover_petri_net_heuristics(event_log)\n",
    "    # Inductive\n",
    "    net_inductive, im_inductive, fm_inductive = pm4py.discover_petri_net_inductive(event_log)\n",
    "    # Inductive Frequent\n",
    "    net_inductive_inf, im_inductive_inf, fm_inductive_inf = pm4py.discover_petri_net_inductive(event_log, noise_threshold=0.7)\n",
    "\n",
    "    m1 = TokenReplay(event_log, net_alpha, im_alpha, fm_alpha, \"AM\")\n",
    "    m2 = TokenReplay(event_log, net_heuristic, im_heuristic, fm_heuristic, \"HM\")\n",
    "    m3 = TokenReplay(event_log, net_inductive, im_inductive, fm_inductive, \"IM\")\n",
    "    m4 = TokenReplay(event_log, net_inductive_inf, im_inductive_inf, fm_inductive_inf, \"IMi\")\n",
    "\n",
    "    miners = [m1, m2, m3, m4]\n",
    "    \n",
    "    for miner in miners:\n",
    "        get_visualizer(miner)\n",
    "\n",
    "    return miners"
   ],
   "id": "82c380fa41f44a41",
   "outputs": []
  },
  {
   "metadata": {
    "ExecuteTime": {
     "end_time": "2024-07-07T21:43:09.418512Z",
     "start_time": "2024-07-07T21:43:09.415651Z"
    }
   },
   "cell_type": "code",
   "source": [
    "# Replaced ModelComparator with ModelComparator4D, added run_4d call\n",
    "\n",
    "def plot_miner_scatter(miners, desc, x_dim, y_dim):\n",
    "    comparator = ModelComparator4D(miners)\n",
    "\n",
    "    print(\"===== Pareto Efficient Models for log:\", desc, \"=====\")\n",
    "    results = comparator.run(x_dimension=x_dim, y_dimension=y_dim)\n",
    "    print(results)\n",
    "    \n",
    "    comparator.run_4d()"
   ],
   "id": "9909b35262849af0",
   "outputs": [],
   "execution_count": 6
  },
  {
   "metadata": {
    "ExecuteTime": {
     "end_time": "2024-07-07T21:43:09.741067Z",
     "start_time": "2024-07-07T21:43:09.737397Z"
    }
   },
   "cell_type": "code",
   "source": [
    "# Removed shuffled log references\n",
    "\n",
    "def get_visualizer(miner):\n",
    "    print(\"MinerType\", miner.net_type)\n",
    "    miner.run()\n",
    "\n",
    "    vizard = Visualizer()\n",
    "    graph = vizard.build_petri_net(\n",
    "        miner.net, miner.initial_marking, miner.final_marking\n",
    "    )\n",
    "    vizard.display(graph)"
   ],
   "id": "8dd2b8fd916f4fb",
   "outputs": [],
   "execution_count": 7
  }
 ],
 "metadata": {
  "kernelspec": {
   "display_name": "Python 3",
   "language": "python",
   "name": "python3"
  },
  "language_info": {
   "codemirror_mode": {
    "name": "ipython",
    "version": 2
   },
   "file_extension": ".py",
   "mimetype": "text/x-python",
   "name": "python",
   "nbconvert_exporter": "python",
   "pygments_lexer": "ipython2",
   "version": "2.7.6"
  }
 },
 "nbformat": 4,
 "nbformat_minor": 5
}
