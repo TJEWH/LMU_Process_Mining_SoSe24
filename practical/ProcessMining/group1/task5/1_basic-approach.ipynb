{
 "cells": [
  {
   "metadata": {},
   "cell_type": "markdown",
   "source": "# Basic Approach for Trace Clustering\n",
   "id": "51cf6a26414091cc"
  },
  {
   "metadata": {},
   "cell_type": "markdown",
   "source": [
    "Requirements:\n",
    "- implement basic approach (one-hot-enconding + kmeans)\n",
    "- hyperparameter experiments (grid-search)\n",
    "- interpretation of clusters (one municipal? etc.) \n",
    "- -> Notebook nicely presenting the clustering results for different hyperparameters"
   ],
   "id": "dec2c1edb369f713"
  },
  {
   "metadata": {
    "ExecuteTime": {
     "end_time": "2024-07-02T23:06:51.490976Z",
     "start_time": "2024-07-02T23:06:50.957150Z"
    }
   },
   "cell_type": "code",
   "source": [
    "from practical.ProcessMining.group1.shared import utils\n",
    "from sklearn.metrics import silhouette_score\n",
    "from sklearn.model_selection import ParameterGrid\n",
    "from joblib import Parallel, delayed\n",
    "import numpy as np\n",
    "\n",
    "from sklearn.cluster import KMeans\n",
    "from sklearn.preprocessing import OneHotEncoder\n",
    "from sklearn.metrics import silhouette_score\n",
    "from sklearn.model_selection import ParameterGrid\n",
    "\n",
    "BASE = utils.SAMPLES_PATH\n",
    "real_path = BASE / \"DomesticDeclarations_cleansed.csv\"\n",
    "event_log = utils.import_csv(BASE / \"DomesticDeclarations_cleansed.csv\")"
   ],
   "id": "7339cf495cdade52",
   "outputs": [],
   "execution_count": 6
  },
  {
   "metadata": {
    "ExecuteTime": {
     "end_time": "2024-07-02T23:06:55.090023Z",
     "start_time": "2024-07-02T23:06:52.088191Z"
    }
   },
   "cell_type": "code",
   "source": [
    "# One-hot encode the event log\n",
    "one_hot_encoder = OneHotEncoder(sparse_output=False)\n",
    "event_log_encoded = one_hot_encoder.fit_transform(event_log[[\"activity\"]])\n",
    "\n",
    "# Sample a subset of the data for faster computation\n",
    "sample_indices = np.random.choice(event_log_encoded.shape[0], size=1000, replace=False)\n",
    "event_log_sampled = event_log_encoded[sample_indices]\n",
    "\n",
    "# Apply KMeans clustering with hyperparameter tuning\n",
    "param_grid = {\n",
    "    'n_clusters': [3, 4, 5, 6, 7, 8, 9, 10],\n",
    "    'init': ['k-means++', 'random'],\n",
    "    'n_init': [10, 15, 20],\n",
    "    'max_iter': [300, 400, 500]\n",
    "}\n",
    "\n",
    "def evaluate_model(params, log):\n",
    "    k_means = KMeans(**params, random_state=42)\n",
    "    cluster_labels = k_means.fit_predict(log)\n",
    "    score = silhouette_score(log, cluster_labels)\n",
    "    return score, params\n",
    "        \n",
    "results = Parallel(n_jobs=-1)(delayed(evaluate_model)(params, event_log_sampled) for params in ParameterGrid(param_grid))\n",
    "best_score, best_params = max(results, key=lambda x: x[0])\n",
    "\n",
    "print(f\"Best Score: {best_score}\")\n",
    "print(f\"Best Params: {best_params}\")"
   ],
   "id": "82c2e918f406c228",
   "outputs": [
    {
     "name": "stdout",
     "output_type": "stream",
     "text": [
      "Best Score: 0.9855\n",
      "Best Params: {'init': 'k-means++', 'max_iter': 300, 'n_clusters': 10, 'n_init': 10}\n"
     ]
    }
   ],
   "execution_count": 7
  },
  {
   "metadata": {},
   "cell_type": "markdown",
   "source": [
    "Improvement Steps:\n",
    "1. pure silhouette score calculation was too time consuming in combination with parameter tuning\n",
    "2. To improve, used sample logs of actual eventlog and parallelized execution\n",
    "\n",
    "Best score range: \n",
    "- 0.98 - 0.99\n",
    "\n",
    "Best params: \n",
    "- 'init': 'k-means++', \n",
    "- 'max_iter': 300, \n",
    "- 'n_clusters': 10, \n",
    "\n",
    "Mostly best params\n",
    "- 'n_init': 10}\n",
    "\n",
    "Explanation:\n",
    "- n_clusters: silhouette score calculates cluster affiliation, the more clusters are used, the better silhouette scores can be expected => overfitting problem, the more clusters, the better the score while cluster <= eventlog-unique-activities\n",
    "- max_iter: probably for sample set size, already after 300 iterations, no more changes\n",
    "- init: trivial, that k-means++ performance better than random"
   ],
   "id": "c54e1ba7dd0362ef"
  },
  {
   "metadata": {},
   "cell_type": "markdown",
   "source": "Next, using best parameters found for sample log to cluster the real log and add it as feature to each row of the eventlog",
   "id": "34ddaecfb78411a1"
  },
  {
   "metadata": {
    "ExecuteTime": {
     "end_time": "2024-07-02T23:06:59.807638Z",
     "start_time": "2024-07-02T23:06:58.773291Z"
    }
   },
   "cell_type": "code",
   "source": [
    "k_means = KMeans(**best_params, random_state=42)\n",
    "event_log['cluster'] = k_means.fit_predict(event_log_encoded)\n",
    "\n",
    "# Split the event log into cluster sublogs\n",
    "cluster_sublogs = {}\n",
    "for cluster_label in event_log['cluster'].unique():\n",
    "    cluster_sublogs[cluster_label] = event_log[event_log['cluster'] == cluster_label]"
   ],
   "id": "ef8dd2fe99043c6",
   "outputs": [],
   "execution_count": 8
  },
  {
   "metadata": {},
   "cell_type": "markdown",
   "source": "Finally split the modified log by cluster label and save each sublog to a csv file, so that each one can be handled as standalone eventlog",
   "id": "f74112f8a2523a1d"
  },
  {
   "metadata": {
    "ExecuteTime": {
     "end_time": "2024-07-02T23:07:00.295172Z",
     "start_time": "2024-07-02T23:06:59.921173Z"
    }
   },
   "cell_type": "code",
   "source": [
    "import os\n",
    "\n",
    "base_dir = \"base_approach\"\n",
    "os.makedirs(base_dir, exist_ok=True)\n",
    "\n",
    "for cluster_label, df in cluster_sublogs.items():\n",
    "    file_path = os.path.join(base_dir, f\"cluster_{cluster_label}.csv\")\n",
    "    df.to_csv(file_path, index=False)\n",
    "\n",
    "print(f\"Clusters exported to /base_approach\")"
   ],
   "id": "3eef9b87a0b7dfe5",
   "outputs": [
    {
     "name": "stdout",
     "output_type": "stream",
     "text": [
      "Clusters exported to /base_approach\n"
     ]
    }
   ],
   "execution_count": 9
  },
  {
   "metadata": {},
   "cell_type": "code",
   "outputs": [],
   "execution_count": null,
   "source": "",
   "id": "20cc57656969b1cb"
  }
 ],
 "metadata": {
  "kernelspec": {
   "display_name": "Python 3",
   "language": "python",
   "name": "python3"
  },
  "language_info": {
   "codemirror_mode": {
    "name": "ipython",
    "version": 2
   },
   "file_extension": ".py",
   "mimetype": "text/x-python",
   "name": "python",
   "nbconvert_exporter": "python",
   "pygments_lexer": "ipython2",
   "version": "2.7.6"
  }
 },
 "nbformat": 4,
 "nbformat_minor": 5
}
