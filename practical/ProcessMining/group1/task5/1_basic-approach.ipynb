{
 "cells": [
  {
   "metadata": {},
   "cell_type": "markdown",
   "source": "# Basic Approach for Trace Clustering\n",
   "id": "51cf6a26414091cc"
  },
  {
   "metadata": {},
   "cell_type": "markdown",
   "source": [
    "Requirements:\n",
    "- implement basic approach (one-hot-enconding + kmeans)\n",
    "- hyperparameter experiments (grid-search)\n",
    "- interpretation of clusters (one municipal? etc.) \n",
    "- -> Notebook nicely presenting the clustering results for different hyperparameters"
   ],
   "id": "dec2c1edb369f713"
  },
  {
   "metadata": {
    "ExecuteTime": {
     "end_time": "2024-07-02T19:36:48.496656Z",
     "start_time": "2024-07-02T19:36:46.156479Z"
    }
   },
   "cell_type": "code",
   "source": [
    "from practical.ProcessMining.group1.shared import utils\n",
    "from pm4py.objects.conversion.log import converter as log_converter\n",
    "from sklearn.cluster._kmeans import KMeans\n",
    "from sklearn.preprocessing._encoders import OneHotEncoder\n",
    "\n",
    "BASE = utils.SAMPLES_PATH\n",
    "real_log = utils.import_csv(BASE / \"DomesticDeclarations_cleansed.csv\")\n",
    "\n",
    "event_log = log_converter.to_event_log.apply(real_log)"
   ],
   "id": "7339cf495cdade52",
   "outputs": [],
   "execution_count": 1
  },
  {
   "metadata": {},
   "cell_type": "code",
   "outputs": [],
   "execution_count": null,
   "source": [
    "k_means = KMeans(n_clusters=5)\n",
    "one_hot = OneHotEncoder()\n"
   ],
   "id": "82c2e918f406c228"
  }
 ],
 "metadata": {
  "kernelspec": {
   "display_name": "Python 3",
   "language": "python",
   "name": "python3"
  },
  "language_info": {
   "codemirror_mode": {
    "name": "ipython",
    "version": 2
   },
   "file_extension": ".py",
   "mimetype": "text/x-python",
   "name": "python",
   "nbconvert_exporter": "python",
   "pygments_lexer": "ipython2",
   "version": "2.7.6"
  }
 },
 "nbformat": 4,
 "nbformat_minor": 5
}
